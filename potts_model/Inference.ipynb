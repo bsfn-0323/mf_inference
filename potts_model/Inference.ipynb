{
 "cells": [
  {
   "cell_type": "markdown",
   "id": "869aee5e-9a38-4453-90e2-34a8114c2e9a",
   "metadata": {},
   "source": [
    "# Inferenza statistica e machine learning in fisica statistica: il problema di Ising inverso"
   ]
  },
  {
   "cell_type": "markdown",
   "id": "f5e8bf6b-5c2f-4a7e-8d84-658a856c2a13",
   "metadata": {
    "tags": []
   },
   "source": [
    "Import delle librerie necessarie"
   ]
  },
  {
   "cell_type": "code",
   "execution_count": 2,
   "id": "1f253201-dc77-42bc-8516-b772d158660c",
   "metadata": {},
   "outputs": [],
   "source": [
    "import numpy as np\n",
    "import pandas as pd\n",
    "import matplotlib.pyplot as plt\n",
    "import os"
   ]
  },
  {
   "cell_type": "markdown",
   "id": "a91d05c0-17b9-45ea-b9ee-7f5ad9780173",
   "metadata": {
    "tags": []
   },
   "source": [
    "## Lattice"
   ]
  },
  {
   "cell_type": "markdown",
   "id": "e5eb7444-348b-472f-8bd6-44f8e52751b6",
   "metadata": {},
   "source": [
    "Come prima cosa, proviamo a caricare uno dei file di dati. Carichiamo le configurazioni e i coupling (per calolare poi l'errore) e defininiamo le grandezze di interesse"
   ]
  },
  {
   "cell_type": "code",
   "execution_count": 3,
   "id": "479e1a8a-e721-4352-a462-762770338853",
   "metadata": {},
   "outputs": [],
   "source": [
    "L = 3 #dimensioni lineari del sistema\n",
    "N = L*L*L #numero di spin\n",
    "\n",
    "data = np.loadtxt(\"./data_lattice/config_L3_T2.00_J1.00.dat\")\n",
    "J0 = np.loadtxt(\"./data_lattice/interaction_L3_T2.00_J1.00.dat\")*0.5 #Lo 0.5 serve per la temperatura"
   ]
  },
  {
   "cell_type": "markdown",
   "id": "f359d9e0-9be0-4b03-855f-d59f972ae168",
   "metadata": {},
   "source": [
    "Diamo un'occhiata a come sono fatti i coupling originali J0. Notate che la matrice è simmetrica."
   ]
  },
  {
   "cell_type": "code",
   "execution_count": 4,
   "id": "2d4142ea-b11e-4fdc-9b04-914ecb337074",
   "metadata": {},
   "outputs": [
    {
     "data": {
      "image/png": "[encoded data removed]",
      "text/plain": [
       "<Figure size 360x360 with 1 Axes>"
      ]
     },
     "metadata": {
      "needs_background": "light"
     },
     "output_type": "display_data"
    }
   ],
   "source": [
    "fig, ax = plt.subplots(figsize = (5,5))\n",
    "plt.gca().invert_yaxis()\n",
    "heatmap = ax.pcolor(J0)\n",
    "ax.set_title(r\"Coupling originali, $J_0$\")\n",
    "plt.show()"
   ]
  },
  {
   "cell_type": "markdown",
   "id": "f0f874ce-a14a-45e6-b0b6-7d7fe896d8f8",
   "metadata": {},
   "source": [
    "Calcoliamo la matrice di correlazione e prendiamo l'opposto dell'inversa. Il metodo MF ci dice che questa è la nostra stima J dei coupling di interazione."
   ]
  },
  {
   "cell_type": "code",
   "execution_count": 5,
   "id": "d7ea6df6-2c5b-4764-a4c9-0ae807a37fa3",
   "metadata": {},
   "outputs": [],
   "source": [
    "#Implementazione naive\n",
    "\n",
    "def MF_J_slow(data, N):\n",
    "    xmeans = np.mean(np.split(data[:,2], int(len(data)/N)), axis = 0)\n",
    "    ymeans = np.mean(np.split(data[:,3], int(len(data)/N)), axis = 0)\n",
    "    C= np.zeros((N,N))\n",
    "    for el in np.split(data[:,2], int(len(data)/N)):\n",
    "        C += np.outer(el,el.T)\n",
    "    for el in np.split(data[:,3], int(len(data)/N)):\n",
    "        C += np.outer(el,el.T)\n",
    "    C /= (len(data)/N)\n",
    "    C -= np.outer(xmeans, xmeans.T)+np.outer(ymeans, ymeans.T)\n",
    "    J = - np.linalg.inv(C)\n",
    "    return J"
   ]
  },
  {
   "cell_type": "code",
   "execution_count": 6,
   "id": "7fdfa515-d24b-416a-844f-039b0de7711e",
   "metadata": {},
   "outputs": [],
   "source": [
    "#Implementazione usando 'cov'\n",
    "\n",
    "def MF_J(data, N):\n",
    "    C = np.cov(np.split(data[:,2], int(len(data)/N)), rowvar = False) + np.cov(np.split(data[:,3], int(len(data)/N)), rowvar = False)\n",
    "    J = - np.linalg.inv(C)\n",
    "    return J"
   ]
  },
  {
   "cell_type": "code",
   "execution_count": 7,
   "id": "e9b78a61-4388-4bb8-b2f1-4d17f6f8c1b9",
   "metadata": {},
   "outputs": [],
   "source": [
    "J = MF_J(data, N)"
   ]
  },
  {
   "cell_type": "markdown",
   "id": "da03c8a9-3a63-4fbc-ae4c-348f4a5d9115",
   "metadata": {},
   "source": [
    "Confrontiamo la matrice ottenuta con l'originale."
   ]
  },
  {
   "cell_type": "code",
   "execution_count": 12,
   "id": "3190a29d-1011-4938-88d6-8f1ae0cee3fc",
   "metadata": {},
   "outputs": [
    {
     "data": {
      "image/png": "[encoded data removed]",
      "text/plain": [
       "<Figure size 864x360 with 4 Axes>"
      ]
     },
     "metadata": {
      "needs_background": "light"
     },
     "output_type": "display_data"
    }
   ],
   "source": [
    "fig, ax = plt.subplots(1,2, figsize = (12,5))\n",
    "ax[0].invert_yaxis()\n",
    "ax[1].invert_yaxis()\n",
    "heatmap = ax[0].pcolor(J0)\n",
    "ax[0].set_title(r\"Coupling originali, $\\beta J_0$\")\n",
    "plt.colorbar(heatmap, ax = ax[0])\n",
    "heatmap = ax[1].pcolor(J-np.identity(N)*np.diag(J))\n",
    "plt.colorbar(heatmap,  ax = ax[1])\n",
    "ax[1].set_title(r\"Coupling inferito, $\\beta J$\")\n",
    "plt.show()"
   ]
  },
  {
   "cell_type": "markdown",
   "id": "3f8d90d1-6c32-4224-bc3c-1921081ad8e7",
   "metadata": {},
   "source": [
    "La matrice così ottenuta ha visivamente la stessa forma della matrice originale. Ottimo!"
   ]
  },
  {
   "cell_type": "markdown",
   "id": "bf1e32c6-2920-4506-999b-522959968d33",
   "metadata": {},
   "source": [
    "Calcoliamo gamma per stimare l'errore:"
   ]
  },
  {
   "cell_type": "code",
   "execution_count": 25,
   "id": "b2fcb57c-69a8-4e89-a700-0c6d7c240124",
   "metadata": {},
   "outputs": [],
   "source": [
    "def gamma(J, J0):\n",
    "    return np.sqrt(np.sum((J-np.identity(N)*np.diag(J)-J0)**2)/np.sum(J0**2))"
   ]
  },
  {
   "cell_type": "code",
   "execution_count": 26,
   "id": "aca0f179-ab78-4f1e-b133-1323328c0e4d",
   "metadata": {},
   "outputs": [
    {
     "name": "stdout",
     "output_type": "stream",
     "text": [
      "Mean field error = 0.261\n"
     ]
    }
   ],
   "source": [
    "print(\"Mean field error = {0:.3}\".format(gamma(J, J0)))"
   ]
  },
  {
   "cell_type": "markdown",
   "id": "0cde41e9-00b7-48f0-88b6-80908f531b40",
   "metadata": {},
   "source": [
    "Come ci potevamo aspettare, l'errore è relativamente piccolo."
   ]
  },
  {
   "cell_type": "markdown",
   "id": "a58c2ba3-a820-4d84-bc66-65b8d85e0b51",
   "metadata": {},
   "source": [
    "Possiamo ora ripetere il processo per gli altri grafici generati, ed ottenere l'andamento dell'errore in funzione della temperatura."
   ]
  },
  {
   "cell_type": "code",
   "execution_count": 27,
   "id": "068e5427-b4f4-45b5-8231-70c0ae0d35e8",
   "metadata": {},
   "outputs": [
    {
     "name": "stdout",
     "output_type": "stream",
     "text": [
      "# Temperatura Gamma\n",
      "2.00 0.2605648074143807\n",
      "1.60 0.3854400079770866\n",
      "3.00 0.47094444142440245\n",
      "2.80 0.4585557957513255\n",
      "1.30 1.506021491069586\n",
      "2.50 0.4293688924967689\n",
      "1.90 0.19144264657388807\n",
      "2.20 0.354634627685874\n",
      "1.40 1.010632721868107\n",
      "2.70 0.4516513050052763\n",
      "2.90 0.4669733554279403\n",
      "2.40 0.41149399864135183\n",
      "2.10 0.30976623034193196\n",
      "1.70 0.22182845588143627\n",
      "2.60 0.44431979075221695\n",
      "1.80 0.15630915345615912\n",
      "2.30 0.38703419995265953\n",
      "1.50 0.6258220581784509\n"
     ]
    }
   ],
   "source": [
    "errors = []\n",
    "print(\"# Temperatura Gamma\")\n",
    "for file in os.listdir(\"./data_lattice/\"):\n",
    "    if \"config\" in file:\n",
    "        data = np.loadtxt(\"./data_lattice/\" + file)\n",
    "        J0 = np.loadtxt(\"./data_lattice/interaction_\" + file.split(\"_\",1)[1])/float(file.split(\"_\")[2][1:])\n",
    "        try:\n",
    "            J = MF_J(data, N)\n",
    "            errors += [[float(file.split(\"_\")[2][1:]), gamma(J, J0)]]\n",
    "            print(file.split(\"_\")[2][1:], gamma(J, J0))\n",
    "        except:\n",
    "            print(file.split(\"_\")[2][1:], \"Broken\")\n",
    "errors_lattice = np.array(errors)"
   ]
  },
  {
   "cell_type": "code",
   "execution_count": 28,
   "id": "0df2c6d9-7709-4c9f-b3a6-2546c068e8c8",
   "metadata": {},
   "outputs": [
    {
     "data": {
      "image/png": "[encoded data removed]",
      "text/plain": [
       "<Figure size 432x288 with 1 Axes>"
      ]
     },
     "metadata": {
      "needs_background": "light"
     },
     "output_type": "display_data"
    }
   ],
   "source": [
    "plt.scatter(errors_lattice[:,0], errors_lattice[:,1], zorder = 3, color = \"black\")\n",
    "plt.ylim([0,1.15])\n",
    "plt.ylabel(r\"$\\gamma_J$\", size = 16)\n",
    "plt.xlabel(r\"$T$\", size = 16)\n",
    "plt.title(\"Cubic lattice\", size = 16)\n",
    "plt.grid()\n",
    "plt.show()"
   ]
  },
  {
   "cell_type": "markdown",
   "id": "4a8163a7-065f-42a1-8a47-cfa5e60b9188",
   "metadata": {},
   "source": [
    "## Random graph"
   ]
  },
  {
   "cell_type": "markdown",
   "id": "7c1d746b-02be-4111-aa64-688fc98f1176",
   "metadata": {},
   "source": [
    "Possiamo ripetere le operazioni precedenti nel caso di un random graph."
   ]
  },
  {
   "cell_type": "code",
   "execution_count": 9,
   "id": "99fbd7c5-b04d-4819-ab22-696bf91b813c",
   "metadata": {},
   "outputs": [],
   "source": [
    "data = np.loadtxt(\"./data_RG/config_L3_T2.00_J1.00.dat\")\n",
    "J0 = np.loadtxt(\"./data_RG/interaction_L3_T2.00_J1.00.dat\")*0.5"
   ]
  },
  {
   "cell_type": "code",
   "execution_count": 10,
   "id": "582ead38-b3e5-481f-8d8c-d1b282ac151d",
   "metadata": {},
   "outputs": [],
   "source": [
    "J = MF_J(data, N)"
   ]
  },
  {
   "cell_type": "code",
   "execution_count": 11,
   "id": "a0502130-de16-463c-88e9-be81ae8f749a",
   "metadata": {},
   "outputs": [
    {
     "data": {
      "image/png": "[encoded data removed]",
      "text/plain": [
       "<Figure size 864x360 with 4 Axes>"
      ]
     },
     "metadata": {
      "needs_background": "light"
     },
     "output_type": "display_data"
    }
   ],
   "source": [
    "fig, ax = plt.subplots(1,2, figsize = (12,5))\n",
    "ax[0].invert_yaxis()\n",
    "ax[1].invert_yaxis()\n",
    "heatmap = ax[0].pcolor(J0)\n",
    "ax[0].set_title(r\"Coupling originali, $J_0$\")\n",
    "plt.colorbar(heatmap, ax = ax[0])\n",
    "heatmap = ax[1].pcolor(J-np.identity(N)*np.diag(J))\n",
    "plt.colorbar(heatmap,  ax = ax[1])\n",
    "ax[1].set_title(r\"Coupling inferito, $\\beta J$\")\n",
    "plt.show()"
   ]
  },
  {
   "cell_type": "code",
   "execution_count": 23,
   "id": "e6ba15f9-4cda-4d41-8925-d46a6f02fc7f",
   "metadata": {},
   "outputs": [
    {
     "name": "stdout",
     "output_type": "stream",
     "text": [
      "# Temperatura Gamma\n",
      "2.00 0.4815337392835571\n",
      "3.50 0.476635255473725\n",
      "1.60 3.7477391000148486\n",
      "3.00 0.45392480661312945\n",
      "2.80 0.4362658984443205\n",
      "2.50 0.39173700347666535\n",
      "1.90 0.8304257084627726\n",
      "2.20 0.3469756078247049\n",
      "3.20 0.4629709069403028\n",
      "2.70 0.4219062576517739\n",
      "3.10 0.4623371851177087\n",
      "2.90 0.4461916958360823\n",
      "2.40 0.37203074208401066\n",
      "2.10 0.3865099859556248\n",
      "3.40 0.4734954779619145\n",
      "1.70 2.007495231383603\n",
      "3.30 0.4719833493268504\n",
      "2.60 0.408250043937103\n",
      "1.80 1.236889927464801\n",
      "2.30 0.3543805064057084\n"
     ]
    }
   ],
   "source": [
    "errors = []\n",
    "print(\"# Temperatura Gamma\")\n",
    "for file in os.listdir(\"./data_RG/\"):\n",
    "    if \"config\" in file:\n",
    "        data = np.loadtxt(\"./data_RG/\" + file)\n",
    "        J0 = np.loadtxt(\"./data_RG/interaction_\" + file.split(\"_\",1)[1])/float(file.split(\"_\")[2][1:])\n",
    "        try:\n",
    "            J = MF_J(data, N)\n",
    "            errors += [[float(file.split(\"_\")[2][1:]), gamma(J, J0)]]\n",
    "            print(file.split(\"_\")[2][1:], gamma(J, J0))\n",
    "        except:\n",
    "            print(file.split(\"_\")[2][1:], \"Broken\")\n",
    "errors_RG = np.array(errors)"
   ]
  },
  {
   "cell_type": "code",
   "execution_count": 26,
   "id": "cd3737a7-ffb9-4589-b342-26f1aa6f602f",
   "metadata": {},
   "outputs": [
    {
     "data": {
      "image/png": "[encoded data removed]",
      "text/plain": [
       "<Figure size 432x288 with 1 Axes>"
      ]
     },
     "metadata": {
      "needs_background": "light"
     },
     "output_type": "display_data"
    }
   ],
   "source": [
    "plt.scatter(errors_RG[:,0], errors_RG[:,1], zorder = 3, color = \"black\")\n",
    "plt.ylim([0,2.3])\n",
    "plt.ylabel(r\"$\\gamma_J$\", size = 16)\n",
    "plt.xlabel(r\"$T$\", size = 16)\n",
    "plt.title(\"Random graph\", size = 16)\n",
    "plt.grid()\n",
    "plt.show()"
   ]
  },
  {
   "cell_type": "markdown",
   "id": "6640be02-5cc0-40ac-848f-72aafbe3836f",
   "metadata": {},
   "source": [
    "Osserviamo che le performance tendono ad essere peggiori."
   ]
  }
 ],
 "metadata": {
  "kernelspec": {
   "display_name": "Python 3",
   "language": "python",
   "name": "python3"
  },
  "language_info": {
   "codemirror_mode": {
    "name": "ipython",
    "version": 3
   },
   "file_extension": ".py",
   "mimetype": "text/x-python",
   "name": "python",
   "nbconvert_exporter": "python",
   "pygments_lexer": "ipython3",
   "version": "3.7.9"
  }
 },
 "nbformat": 4,
 "nbformat_minor": 5
}
